{
 "cells": [
  {
   "cell_type": "markdown",
   "metadata": {},
   "source": [
    "### Will a Customer Accept the Coupon?\n",
    "\n",
    "**Context**\n",
    "\n",
    "Imagine driving through town and a coupon is delivered to your cell phone for a restaraunt near where you are driving. Would you accept that coupon and take a short detour to the restaraunt? Would you accept the coupon but use it on a sunbsequent trip? Would you ignore the coupon entirely? What if the coupon was for a bar instead of a restaraunt? What about a coffee house? Would you accept a bar coupon with a minor passenger in the car? What about if it was just you and your partner in the car? Would weather impact the rate of acceptance? What about the time of day?\n",
    "\n",
    "Obviously, proximity to the business is a factor on whether the coupon is delivered to the driver or not, but what are the factors that determine whether a driver accepts the coupon once it is delivered to them? How would you determine whether a driver is likely to accept a coupon?\n",
    "\n",
    "**Overview**\n",
    "\n",
    "The goal of this project is to use what you know about visualizations and probability distributions to distinguish between customers who accepted a driving coupon versus those that did not.\n",
    "\n",
    "**Data**\n",
    "\n",
    "This data comes to us from the UCI Machine Learning repository and was collected via a survey on Amazon Mechanical Turk. The survey describes different driving scenarios including the destination, current time, weather, passenger, etc., and then ask the person whether he will accept the coupon if he is the driver. Answers that the user will drive there ‘right away’ or ‘later before the coupon expires’ are labeled as ‘Y = 1’ and answers ‘no, I do not want the coupon’ are labeled as ‘Y = 0’.  There are five different types of coupons -- less expensive restaurants (under \\\\$20), coffee houses, carry out & take away, bar, and more expensive restaurants (\\\\$20 - \\\\$50). "
   ]
  },
  {
   "cell_type": "markdown",
   "metadata": {},
   "source": [
    "**Deliverables**\n",
    "\n",
    "Your final product should be a brief report that highlights the differences between customers who did and did not accept the coupons.  To explore the data you will utilize your knowledge of plotting, statistical summaries, and visualization using Python. You will publish your findings in a public facing github repository as your first portfolio piece. \n",
    "\n",
    "\n",
    "\n"
   ]
  },
  {
   "cell_type": "markdown",
   "metadata": {},
   "source": [
    "### Data Description\n",
    "Keep in mind that these values mentioned below are average values.\n",
    "\n",
    "The attributes of this data set include:\n",
    "1. User attributes\n",
    "    -  Gender: male, female\n",
    "    -  Age: below 21, 21 to 25, 26 to 30, etc.\n",
    "    -  Marital Status: single, married partner, unmarried partner, or widowed\n",
    "    -  Number of children: 0, 1, or more than 1\n",
    "    -  Education: high school, bachelors degree, associates degree, or graduate degree\n",
    "    -  Occupation: architecture & engineering, business & financial, etc.\n",
    "    -  Annual income: less than \\\\$12500, \\\\$12500 - \\\\$24999, \\\\$25000 - \\\\$37499, etc.\n",
    "    -  Number of times that he/she goes to a bar: 0, less than 1, 1 to 3, 4 to 8 or greater than 8\n",
    "    -  Number of times that he/she buys takeaway food: 0, less than 1, 1 to 3, 4 to 8 or greater\n",
    "    than 8\n",
    "    -  Number of times that he/she goes to a coffee house: 0, less than 1, 1 to 3, 4 to 8 or\n",
    "    greater than 8\n",
    "    -  Number of times that he/she eats at a restaurant with average expense less than \\\\$20 per\n",
    "    person: 0, less than 1, 1 to 3, 4 to 8 or greater than 8\n",
    "    -  Number of times that he/she goes to a bar: 0, less than 1, 1 to 3, 4 to 8 or greater than 8\n",
    "    \n",
    "\n",
    "2. Contextual attributes\n",
    "    - Driving destination: home, work, or no urgent destination\n",
    "    - Location of user, coupon and destination: we provide a map to show the geographical\n",
    "    location of the user, destination, and the venue, and we mark the distance between each\n",
    "    two places with time of driving. The user can see whether the venue is in the same\n",
    "    direction as the destination.\n",
    "    - Weather: sunny, rainy, or snowy\n",
    "    - Temperature: 30F, 55F, or 80F\n",
    "    - Time: 10AM, 2PM, or 6PM\n",
    "    - Passenger: alone, partner, kid(s), or friend(s)\n",
    "\n",
    "\n",
    "3. Coupon attributes\n",
    "    - time before it expires: 2 hours or one day"
   ]
  },
  {
   "cell_type": "code",
   "execution_count": 3,
   "metadata": {
    "tags": []
   },
   "outputs": [],
   "source": [
    "import matplotlib.pyplot as plt\n",
    "import seaborn as sns\n",
    "import pandas as pd\n",
    "import numpy as np"
   ]
  },
  {
   "cell_type": "markdown",
   "metadata": {
    "tags": []
   },
   "source": [
    "### Problems\n",
    "\n",
    "Use the prompts below to get started with your data analysis.  \n",
    "\n",
    "1. Read in the `coupons.csv` file.\n",
    "\n",
    "\n"
   ]
  },
  {
   "cell_type": "code",
   "execution_count": 5,
   "metadata": {
    "tags": []
   },
   "outputs": [],
   "source": [
    "data = pd.read_csv('data/coupons.csv')"
   ]
  },
  {
   "cell_type": "code",
   "execution_count": 7,
   "metadata": {
    "tags": []
   },
   "outputs": [
    {
     "data": {
      "text/html": [
       "<div>\n",
       "<style scoped>\n",
       "    .dataframe tbody tr th:only-of-type {\n",
       "        vertical-align: middle;\n",
       "    }\n",
       "\n",
       "    .dataframe tbody tr th {\n",
       "        vertical-align: top;\n",
       "    }\n",
       "\n",
       "    .dataframe thead th {\n",
       "        text-align: right;\n",
       "    }\n",
       "</style>\n",
       "<table border=\"1\" class=\"dataframe\">\n",
       "  <thead>\n",
       "    <tr style=\"text-align: right;\">\n",
       "      <th></th>\n",
       "      <th>destination</th>\n",
       "      <th>passanger</th>\n",
       "      <th>weather</th>\n",
       "      <th>temperature</th>\n",
       "      <th>time</th>\n",
       "      <th>coupon</th>\n",
       "      <th>expiration</th>\n",
       "      <th>gender</th>\n",
       "      <th>age</th>\n",
       "      <th>maritalStatus</th>\n",
       "      <th>...</th>\n",
       "      <th>CoffeeHouse</th>\n",
       "      <th>CarryAway</th>\n",
       "      <th>RestaurantLessThan20</th>\n",
       "      <th>Restaurant20To50</th>\n",
       "      <th>toCoupon_GEQ5min</th>\n",
       "      <th>toCoupon_GEQ15min</th>\n",
       "      <th>toCoupon_GEQ25min</th>\n",
       "      <th>direction_same</th>\n",
       "      <th>direction_opp</th>\n",
       "      <th>Y</th>\n",
       "    </tr>\n",
       "  </thead>\n",
       "  <tbody>\n",
       "    <tr>\n",
       "      <th>0</th>\n",
       "      <td>No Urgent Place</td>\n",
       "      <td>Alone</td>\n",
       "      <td>Sunny</td>\n",
       "      <td>55</td>\n",
       "      <td>2PM</td>\n",
       "      <td>Restaurant(&lt;20)</td>\n",
       "      <td>1d</td>\n",
       "      <td>Female</td>\n",
       "      <td>21</td>\n",
       "      <td>Unmarried partner</td>\n",
       "      <td>...</td>\n",
       "      <td>never</td>\n",
       "      <td>NaN</td>\n",
       "      <td>4~8</td>\n",
       "      <td>1~3</td>\n",
       "      <td>1</td>\n",
       "      <td>0</td>\n",
       "      <td>0</td>\n",
       "      <td>0</td>\n",
       "      <td>1</td>\n",
       "      <td>1</td>\n",
       "    </tr>\n",
       "    <tr>\n",
       "      <th>1</th>\n",
       "      <td>No Urgent Place</td>\n",
       "      <td>Friend(s)</td>\n",
       "      <td>Sunny</td>\n",
       "      <td>80</td>\n",
       "      <td>10AM</td>\n",
       "      <td>Coffee House</td>\n",
       "      <td>2h</td>\n",
       "      <td>Female</td>\n",
       "      <td>21</td>\n",
       "      <td>Unmarried partner</td>\n",
       "      <td>...</td>\n",
       "      <td>never</td>\n",
       "      <td>NaN</td>\n",
       "      <td>4~8</td>\n",
       "      <td>1~3</td>\n",
       "      <td>1</td>\n",
       "      <td>0</td>\n",
       "      <td>0</td>\n",
       "      <td>0</td>\n",
       "      <td>1</td>\n",
       "      <td>0</td>\n",
       "    </tr>\n",
       "    <tr>\n",
       "      <th>2</th>\n",
       "      <td>No Urgent Place</td>\n",
       "      <td>Friend(s)</td>\n",
       "      <td>Sunny</td>\n",
       "      <td>80</td>\n",
       "      <td>10AM</td>\n",
       "      <td>Carry out &amp; Take away</td>\n",
       "      <td>2h</td>\n",
       "      <td>Female</td>\n",
       "      <td>21</td>\n",
       "      <td>Unmarried partner</td>\n",
       "      <td>...</td>\n",
       "      <td>never</td>\n",
       "      <td>NaN</td>\n",
       "      <td>4~8</td>\n",
       "      <td>1~3</td>\n",
       "      <td>1</td>\n",
       "      <td>1</td>\n",
       "      <td>0</td>\n",
       "      <td>0</td>\n",
       "      <td>1</td>\n",
       "      <td>1</td>\n",
       "    </tr>\n",
       "    <tr>\n",
       "      <th>3</th>\n",
       "      <td>No Urgent Place</td>\n",
       "      <td>Friend(s)</td>\n",
       "      <td>Sunny</td>\n",
       "      <td>80</td>\n",
       "      <td>2PM</td>\n",
       "      <td>Coffee House</td>\n",
       "      <td>2h</td>\n",
       "      <td>Female</td>\n",
       "      <td>21</td>\n",
       "      <td>Unmarried partner</td>\n",
       "      <td>...</td>\n",
       "      <td>never</td>\n",
       "      <td>NaN</td>\n",
       "      <td>4~8</td>\n",
       "      <td>1~3</td>\n",
       "      <td>1</td>\n",
       "      <td>1</td>\n",
       "      <td>0</td>\n",
       "      <td>0</td>\n",
       "      <td>1</td>\n",
       "      <td>0</td>\n",
       "    </tr>\n",
       "    <tr>\n",
       "      <th>4</th>\n",
       "      <td>No Urgent Place</td>\n",
       "      <td>Friend(s)</td>\n",
       "      <td>Sunny</td>\n",
       "      <td>80</td>\n",
       "      <td>2PM</td>\n",
       "      <td>Coffee House</td>\n",
       "      <td>1d</td>\n",
       "      <td>Female</td>\n",
       "      <td>21</td>\n",
       "      <td>Unmarried partner</td>\n",
       "      <td>...</td>\n",
       "      <td>never</td>\n",
       "      <td>NaN</td>\n",
       "      <td>4~8</td>\n",
       "      <td>1~3</td>\n",
       "      <td>1</td>\n",
       "      <td>1</td>\n",
       "      <td>0</td>\n",
       "      <td>0</td>\n",
       "      <td>1</td>\n",
       "      <td>0</td>\n",
       "    </tr>\n",
       "  </tbody>\n",
       "</table>\n",
       "<p>5 rows × 26 columns</p>\n",
       "</div>"
      ],
      "text/plain": [
       "       destination  passanger weather  temperature  time  \\\n",
       "0  No Urgent Place      Alone   Sunny           55   2PM   \n",
       "1  No Urgent Place  Friend(s)   Sunny           80  10AM   \n",
       "2  No Urgent Place  Friend(s)   Sunny           80  10AM   \n",
       "3  No Urgent Place  Friend(s)   Sunny           80   2PM   \n",
       "4  No Urgent Place  Friend(s)   Sunny           80   2PM   \n",
       "\n",
       "                  coupon expiration  gender age      maritalStatus  ...  \\\n",
       "0        Restaurant(<20)         1d  Female  21  Unmarried partner  ...   \n",
       "1           Coffee House         2h  Female  21  Unmarried partner  ...   \n",
       "2  Carry out & Take away         2h  Female  21  Unmarried partner  ...   \n",
       "3           Coffee House         2h  Female  21  Unmarried partner  ...   \n",
       "4           Coffee House         1d  Female  21  Unmarried partner  ...   \n",
       "\n",
       "   CoffeeHouse CarryAway RestaurantLessThan20 Restaurant20To50  \\\n",
       "0        never       NaN                  4~8              1~3   \n",
       "1        never       NaN                  4~8              1~3   \n",
       "2        never       NaN                  4~8              1~3   \n",
       "3        never       NaN                  4~8              1~3   \n",
       "4        never       NaN                  4~8              1~3   \n",
       "\n",
       "  toCoupon_GEQ5min toCoupon_GEQ15min toCoupon_GEQ25min direction_same  \\\n",
       "0                1                 0                 0              0   \n",
       "1                1                 0                 0              0   \n",
       "2                1                 1                 0              0   \n",
       "3                1                 1                 0              0   \n",
       "4                1                 1                 0              0   \n",
       "\n",
       "  direction_opp  Y  \n",
       "0             1  1  \n",
       "1             1  0  \n",
       "2             1  1  \n",
       "3             1  0  \n",
       "4             1  0  \n",
       "\n",
       "[5 rows x 26 columns]"
      ]
     },
     "execution_count": 7,
     "metadata": {},
     "output_type": "execute_result"
    }
   ],
   "source": [
    "data.head()"
   ]
  },
  {
   "cell_type": "markdown",
   "metadata": {},
   "source": [
    "2. Investigate the dataset for missing or problematic data."
   ]
  },
  {
   "cell_type": "code",
   "execution_count": 13,
   "metadata": {
    "tags": []
   },
   "outputs": [
    {
     "name": "stdout",
     "output_type": "stream",
     "text": [
      "destination             object\n",
      "passanger               object\n",
      "weather                 object\n",
      "temperature              int64\n",
      "time                    object\n",
      "coupon                  object\n",
      "expiration              object\n",
      "gender                  object\n",
      "age                     object\n",
      "maritalStatus           object\n",
      "has_children             int64\n",
      "education               object\n",
      "occupation              object\n",
      "income                  object\n",
      "car                     object\n",
      "Bar                     object\n",
      "CoffeeHouse             object\n",
      "CarryAway               object\n",
      "RestaurantLessThan20    object\n",
      "Restaurant20To50        object\n",
      "toCoupon_GEQ5min         int64\n",
      "toCoupon_GEQ15min        int64\n",
      "toCoupon_GEQ25min        int64\n",
      "direction_same           int64\n",
      "direction_opp            int64\n",
      "Y                        int64\n",
      "dtype: object\n"
     ]
    }
   ],
   "source": [
    "#I look at data types to see is mis-matched data types exist that could be problematic\n",
    "print(data.dtypes)"
   ]
  },
  {
   "cell_type": "code",
   "execution_count": 18,
   "metadata": {
    "tags": []
   },
   "outputs": [
    {
     "data": {
      "text/html": [
       "<div>\n",
       "<style scoped>\n",
       "    .dataframe tbody tr th:only-of-type {\n",
       "        vertical-align: middle;\n",
       "    }\n",
       "\n",
       "    .dataframe tbody tr th {\n",
       "        vertical-align: top;\n",
       "    }\n",
       "\n",
       "    .dataframe thead th {\n",
       "        text-align: right;\n",
       "    }\n",
       "</style>\n",
       "<table border=\"1\" class=\"dataframe\">\n",
       "  <thead>\n",
       "    <tr style=\"text-align: right;\">\n",
       "      <th></th>\n",
       "      <th>destination</th>\n",
       "      <th>passanger</th>\n",
       "      <th>weather</th>\n",
       "      <th>temperature</th>\n",
       "      <th>time</th>\n",
       "      <th>coupon</th>\n",
       "      <th>expiration</th>\n",
       "      <th>gender</th>\n",
       "      <th>age</th>\n",
       "      <th>maritalStatus</th>\n",
       "      <th>...</th>\n",
       "      <th>CoffeeHouse</th>\n",
       "      <th>CarryAway</th>\n",
       "      <th>RestaurantLessThan20</th>\n",
       "      <th>Restaurant20To50</th>\n",
       "      <th>toCoupon_GEQ5min</th>\n",
       "      <th>toCoupon_GEQ15min</th>\n",
       "      <th>toCoupon_GEQ25min</th>\n",
       "      <th>direction_same</th>\n",
       "      <th>direction_opp</th>\n",
       "      <th>Y</th>\n",
       "    </tr>\n",
       "  </thead>\n",
       "  <tbody>\n",
       "    <tr>\n",
       "      <th>11702</th>\n",
       "      <td>Home</td>\n",
       "      <td>Partner</td>\n",
       "      <td>Sunny</td>\n",
       "      <td>30</td>\n",
       "      <td>10PM</td>\n",
       "      <td>Bar</td>\n",
       "      <td>2h</td>\n",
       "      <td>Female</td>\n",
       "      <td>50plus</td>\n",
       "      <td>Married partner</td>\n",
       "      <td>...</td>\n",
       "      <td>gt8</td>\n",
       "      <td>4~8</td>\n",
       "      <td>1~3</td>\n",
       "      <td>less1</td>\n",
       "      <td>1</td>\n",
       "      <td>1</td>\n",
       "      <td>1</td>\n",
       "      <td>0</td>\n",
       "      <td>1</td>\n",
       "      <td>0</td>\n",
       "    </tr>\n",
       "    <tr>\n",
       "      <th>9930</th>\n",
       "      <td>No Urgent Place</td>\n",
       "      <td>Alone</td>\n",
       "      <td>Snowy</td>\n",
       "      <td>30</td>\n",
       "      <td>2PM</td>\n",
       "      <td>Bar</td>\n",
       "      <td>1d</td>\n",
       "      <td>Female</td>\n",
       "      <td>21</td>\n",
       "      <td>Single</td>\n",
       "      <td>...</td>\n",
       "      <td>gt8</td>\n",
       "      <td>gt8</td>\n",
       "      <td>gt8</td>\n",
       "      <td>4~8</td>\n",
       "      <td>1</td>\n",
       "      <td>0</td>\n",
       "      <td>0</td>\n",
       "      <td>0</td>\n",
       "      <td>1</td>\n",
       "      <td>0</td>\n",
       "    </tr>\n",
       "    <tr>\n",
       "      <th>10632</th>\n",
       "      <td>Home</td>\n",
       "      <td>Alone</td>\n",
       "      <td>Rainy</td>\n",
       "      <td>55</td>\n",
       "      <td>6PM</td>\n",
       "      <td>Bar</td>\n",
       "      <td>1d</td>\n",
       "      <td>Male</td>\n",
       "      <td>21</td>\n",
       "      <td>Single</td>\n",
       "      <td>...</td>\n",
       "      <td>never</td>\n",
       "      <td>gt8</td>\n",
       "      <td>less1</td>\n",
       "      <td>less1</td>\n",
       "      <td>1</td>\n",
       "      <td>1</td>\n",
       "      <td>1</td>\n",
       "      <td>0</td>\n",
       "      <td>1</td>\n",
       "      <td>0</td>\n",
       "    </tr>\n",
       "    <tr>\n",
       "      <th>7997</th>\n",
       "      <td>No Urgent Place</td>\n",
       "      <td>Friend(s)</td>\n",
       "      <td>Rainy</td>\n",
       "      <td>55</td>\n",
       "      <td>10PM</td>\n",
       "      <td>Bar</td>\n",
       "      <td>2h</td>\n",
       "      <td>Male</td>\n",
       "      <td>26</td>\n",
       "      <td>Unmarried partner</td>\n",
       "      <td>...</td>\n",
       "      <td>never</td>\n",
       "      <td>4~8</td>\n",
       "      <td>never</td>\n",
       "      <td>1~3</td>\n",
       "      <td>1</td>\n",
       "      <td>1</td>\n",
       "      <td>0</td>\n",
       "      <td>0</td>\n",
       "      <td>1</td>\n",
       "      <td>1</td>\n",
       "    </tr>\n",
       "    <tr>\n",
       "      <th>11166</th>\n",
       "      <td>Work</td>\n",
       "      <td>Alone</td>\n",
       "      <td>Snowy</td>\n",
       "      <td>30</td>\n",
       "      <td>7AM</td>\n",
       "      <td>Bar</td>\n",
       "      <td>1d</td>\n",
       "      <td>Female</td>\n",
       "      <td>41</td>\n",
       "      <td>Married partner</td>\n",
       "      <td>...</td>\n",
       "      <td>4~8</td>\n",
       "      <td>gt8</td>\n",
       "      <td>1~3</td>\n",
       "      <td>less1</td>\n",
       "      <td>1</td>\n",
       "      <td>1</td>\n",
       "      <td>1</td>\n",
       "      <td>0</td>\n",
       "      <td>1</td>\n",
       "      <td>0</td>\n",
       "    </tr>\n",
       "    <tr>\n",
       "      <th>...</th>\n",
       "      <td>...</td>\n",
       "      <td>...</td>\n",
       "      <td>...</td>\n",
       "      <td>...</td>\n",
       "      <td>...</td>\n",
       "      <td>...</td>\n",
       "      <td>...</td>\n",
       "      <td>...</td>\n",
       "      <td>...</td>\n",
       "      <td>...</td>\n",
       "      <td>...</td>\n",
       "      <td>...</td>\n",
       "      <td>...</td>\n",
       "      <td>...</td>\n",
       "      <td>...</td>\n",
       "      <td>...</td>\n",
       "      <td>...</td>\n",
       "      <td>...</td>\n",
       "      <td>...</td>\n",
       "      <td>...</td>\n",
       "      <td>...</td>\n",
       "    </tr>\n",
       "    <tr>\n",
       "      <th>10476</th>\n",
       "      <td>Home</td>\n",
       "      <td>Alone</td>\n",
       "      <td>Sunny</td>\n",
       "      <td>80</td>\n",
       "      <td>6PM</td>\n",
       "      <td>Restaurant(&lt;20)</td>\n",
       "      <td>1d</td>\n",
       "      <td>Female</td>\n",
       "      <td>31</td>\n",
       "      <td>Unmarried partner</td>\n",
       "      <td>...</td>\n",
       "      <td>less1</td>\n",
       "      <td>1~3</td>\n",
       "      <td>1~3</td>\n",
       "      <td>less1</td>\n",
       "      <td>1</td>\n",
       "      <td>0</td>\n",
       "      <td>0</td>\n",
       "      <td>1</td>\n",
       "      <td>0</td>\n",
       "      <td>1</td>\n",
       "    </tr>\n",
       "    <tr>\n",
       "      <th>5447</th>\n",
       "      <td>Home</td>\n",
       "      <td>Alone</td>\n",
       "      <td>Sunny</td>\n",
       "      <td>80</td>\n",
       "      <td>10PM</td>\n",
       "      <td>Restaurant(&lt;20)</td>\n",
       "      <td>2h</td>\n",
       "      <td>Female</td>\n",
       "      <td>50plus</td>\n",
       "      <td>Single</td>\n",
       "      <td>...</td>\n",
       "      <td>never</td>\n",
       "      <td>less1</td>\n",
       "      <td>less1</td>\n",
       "      <td>never</td>\n",
       "      <td>1</td>\n",
       "      <td>0</td>\n",
       "      <td>0</td>\n",
       "      <td>1</td>\n",
       "      <td>0</td>\n",
       "      <td>0</td>\n",
       "    </tr>\n",
       "    <tr>\n",
       "      <th>10478</th>\n",
       "      <td>Home</td>\n",
       "      <td>Alone</td>\n",
       "      <td>Snowy</td>\n",
       "      <td>30</td>\n",
       "      <td>10PM</td>\n",
       "      <td>Restaurant(&lt;20)</td>\n",
       "      <td>2h</td>\n",
       "      <td>Female</td>\n",
       "      <td>31</td>\n",
       "      <td>Unmarried partner</td>\n",
       "      <td>...</td>\n",
       "      <td>less1</td>\n",
       "      <td>1~3</td>\n",
       "      <td>1~3</td>\n",
       "      <td>less1</td>\n",
       "      <td>1</td>\n",
       "      <td>1</td>\n",
       "      <td>1</td>\n",
       "      <td>0</td>\n",
       "      <td>1</td>\n",
       "      <td>0</td>\n",
       "    </tr>\n",
       "    <tr>\n",
       "      <th>5440</th>\n",
       "      <td>No Urgent Place</td>\n",
       "      <td>Alone</td>\n",
       "      <td>Sunny</td>\n",
       "      <td>80</td>\n",
       "      <td>2PM</td>\n",
       "      <td>Restaurant(&lt;20)</td>\n",
       "      <td>2h</td>\n",
       "      <td>Female</td>\n",
       "      <td>50plus</td>\n",
       "      <td>Single</td>\n",
       "      <td>...</td>\n",
       "      <td>never</td>\n",
       "      <td>less1</td>\n",
       "      <td>less1</td>\n",
       "      <td>never</td>\n",
       "      <td>1</td>\n",
       "      <td>1</td>\n",
       "      <td>0</td>\n",
       "      <td>0</td>\n",
       "      <td>1</td>\n",
       "      <td>0</td>\n",
       "    </tr>\n",
       "    <tr>\n",
       "      <th>0</th>\n",
       "      <td>No Urgent Place</td>\n",
       "      <td>Alone</td>\n",
       "      <td>Sunny</td>\n",
       "      <td>55</td>\n",
       "      <td>2PM</td>\n",
       "      <td>Restaurant(&lt;20)</td>\n",
       "      <td>1d</td>\n",
       "      <td>Female</td>\n",
       "      <td>21</td>\n",
       "      <td>Unmarried partner</td>\n",
       "      <td>...</td>\n",
       "      <td>never</td>\n",
       "      <td>NaN</td>\n",
       "      <td>4~8</td>\n",
       "      <td>1~3</td>\n",
       "      <td>1</td>\n",
       "      <td>0</td>\n",
       "      <td>0</td>\n",
       "      <td>0</td>\n",
       "      <td>1</td>\n",
       "      <td>1</td>\n",
       "    </tr>\n",
       "  </tbody>\n",
       "</table>\n",
       "<p>12684 rows × 26 columns</p>\n",
       "</div>"
      ],
      "text/plain": [
       "           destination  passanger weather  temperature  time           coupon  \\\n",
       "11702             Home    Partner   Sunny           30  10PM              Bar   \n",
       "9930   No Urgent Place      Alone   Snowy           30   2PM              Bar   \n",
       "10632             Home      Alone   Rainy           55   6PM              Bar   \n",
       "7997   No Urgent Place  Friend(s)   Rainy           55  10PM              Bar   \n",
       "11166             Work      Alone   Snowy           30   7AM              Bar   \n",
       "...                ...        ...     ...          ...   ...              ...   \n",
       "10476             Home      Alone   Sunny           80   6PM  Restaurant(<20)   \n",
       "5447              Home      Alone   Sunny           80  10PM  Restaurant(<20)   \n",
       "10478             Home      Alone   Snowy           30  10PM  Restaurant(<20)   \n",
       "5440   No Urgent Place      Alone   Sunny           80   2PM  Restaurant(<20)   \n",
       "0      No Urgent Place      Alone   Sunny           55   2PM  Restaurant(<20)   \n",
       "\n",
       "      expiration  gender     age      maritalStatus  ...  CoffeeHouse  \\\n",
       "11702         2h  Female  50plus    Married partner  ...          gt8   \n",
       "9930          1d  Female      21             Single  ...          gt8   \n",
       "10632         1d    Male      21             Single  ...        never   \n",
       "7997          2h    Male      26  Unmarried partner  ...        never   \n",
       "11166         1d  Female      41    Married partner  ...          4~8   \n",
       "...          ...     ...     ...                ...  ...          ...   \n",
       "10476         1d  Female      31  Unmarried partner  ...        less1   \n",
       "5447          2h  Female  50plus             Single  ...        never   \n",
       "10478         2h  Female      31  Unmarried partner  ...        less1   \n",
       "5440          2h  Female  50plus             Single  ...        never   \n",
       "0             1d  Female      21  Unmarried partner  ...        never   \n",
       "\n",
       "      CarryAway RestaurantLessThan20 Restaurant20To50 toCoupon_GEQ5min  \\\n",
       "11702       4~8                  1~3            less1                1   \n",
       "9930        gt8                  gt8              4~8                1   \n",
       "10632       gt8                less1            less1                1   \n",
       "7997        4~8                never              1~3                1   \n",
       "11166       gt8                  1~3            less1                1   \n",
       "...         ...                  ...              ...              ...   \n",
       "10476       1~3                  1~3            less1                1   \n",
       "5447      less1                less1            never                1   \n",
       "10478       1~3                  1~3            less1                1   \n",
       "5440      less1                less1            never                1   \n",
       "0           NaN                  4~8              1~3                1   \n",
       "\n",
       "      toCoupon_GEQ15min toCoupon_GEQ25min direction_same direction_opp  Y  \n",
       "11702                 1                 1              0             1  0  \n",
       "9930                  0                 0              0             1  0  \n",
       "10632                 1                 1              0             1  0  \n",
       "7997                  1                 0              0             1  1  \n",
       "11166                 1                 1              0             1  0  \n",
       "...                 ...               ...            ...           ... ..  \n",
       "10476                 0                 0              1             0  1  \n",
       "5447                  0                 0              1             0  0  \n",
       "10478                 1                 1              0             1  0  \n",
       "5440                  1                 0              0             1  0  \n",
       "0                     0                 0              0             1  1  \n",
       "\n",
       "[12684 rows x 26 columns]"
      ]
     },
     "execution_count": 18,
     "metadata": {},
     "output_type": "execute_result"
    }
   ],
   "source": [
    "data.sort_values('coupon', ascending=True) "
   ]
  },
  {
   "cell_type": "code",
   "execution_count": 45,
   "metadata": {
    "tags": []
   },
   "outputs": [
    {
     "name": "stdout",
     "output_type": "stream",
     "text": [
      "5\n"
     ]
    }
   ],
   "source": [
    "unique_responses_count = data['Bar'].nunique()\n",
    "print(unique_responses_count)"
   ]
  },
  {
   "cell_type": "code",
   "execution_count": 15,
   "metadata": {
    "tags": []
   },
   "outputs": [
    {
     "name": "stdout",
     "output_type": "stream",
     "text": [
      "<class 'pandas.core.frame.DataFrame'>\n",
      "RangeIndex: 12684 entries, 0 to 12683\n",
      "Data columns (total 26 columns):\n",
      " #   Column                Non-Null Count  Dtype \n",
      "---  ------                --------------  ----- \n",
      " 0   destination           12684 non-null  object\n",
      " 1   passanger             12684 non-null  object\n",
      " 2   weather               12684 non-null  object\n",
      " 3   temperature           12684 non-null  int64 \n",
      " 4   time                  12684 non-null  object\n",
      " 5   coupon                12684 non-null  object\n",
      " 6   expiration            12684 non-null  object\n",
      " 7   gender                12684 non-null  object\n",
      " 8   age                   12684 non-null  object\n",
      " 9   maritalStatus         12684 non-null  object\n",
      " 10  has_children          12684 non-null  int64 \n",
      " 11  education             12684 non-null  object\n",
      " 12  occupation            12684 non-null  object\n",
      " 13  income                12684 non-null  object\n",
      " 14  car                   108 non-null    object\n",
      " 15  Bar                   12577 non-null  object\n",
      " 16  CoffeeHouse           12467 non-null  object\n",
      " 17  CarryAway             12533 non-null  object\n",
      " 18  RestaurantLessThan20  12554 non-null  object\n",
      " 19  Restaurant20To50      12495 non-null  object\n",
      " 20  toCoupon_GEQ5min      12684 non-null  int64 \n",
      " 21  toCoupon_GEQ15min     12684 non-null  int64 \n",
      " 22  toCoupon_GEQ25min     12684 non-null  int64 \n",
      " 23  direction_same        12684 non-null  int64 \n",
      " 24  direction_opp         12684 non-null  int64 \n",
      " 25  Y                     12684 non-null  int64 \n",
      "dtypes: int64(8), object(18)\n",
      "memory usage: 2.5+ MB\n"
     ]
    }
   ],
   "source": [
    "# I use .info to first find columns with missing values\n",
    "data.info()"
   ]
  },
  {
   "cell_type": "code",
   "execution_count": 23,
   "metadata": {
    "tags": []
   },
   "outputs": [],
   "source": [
    "missing_data = data['Bar'].isnull()\n"
   ]
  },
  {
   "cell_type": "code",
   "execution_count": 30,
   "metadata": {
    "tags": []
   },
   "outputs": [
    {
     "name": "stdout",
     "output_type": "stream",
     "text": [
      "Y\n",
      "0    52\n",
      "1    55\n",
      "Name: Bar, dtype: int64\n"
     ]
    }
   ],
   "source": [
    "missing_by_group = data.groupby('Y')['Bar'].apply(lambda x: x.isnull().sum())\n",
    "print(missing_by_group)"
   ]
  },
  {
   "cell_type": "code",
   "execution_count": 35,
   "metadata": {
    "tags": []
   },
   "outputs": [
    {
     "data": {
      "image/png": "[encoded data removed]",
      "text/plain": [
       "<Figure size 640x480 with 1 Axes>"
      ]
     },
     "metadata": {},
     "output_type": "display_data"
    }
   ],
   "source": [
    "#I want to visualize the missing data in the Bar column to see the distribution between those accepted and not accepted\n",
    "missing_by_group.plot(kind='bar', color='skyblue', edgecolor='black')\n",
    "plt.xlabel('Group (Column Y)')\n",
    "plt.ylabel('Number of Missing Values in Column Bar')\n",
    "plt.title('Missing Data in Column Bar Grouped by Coupon Acceptance')\n",
    "plt.show()"
   ]
  },
  {
   "cell_type": "code",
   "execution_count": 38,
   "metadata": {
    "tags": []
   },
   "outputs": [
    {
     "data": {
      "text/plain": [
       "<Axes: >"
      ]
     },
     "execution_count": 38,
     "metadata": {},
     "output_type": "execute_result"
    },
    {
     "data": {
      "image/png": "[encoded data removed]",
      "text/plain": [
       "<Figure size 640x480 with 1 Axes>"
      ]
     },
     "metadata": {},
     "output_type": "display_data"
    }
   ],
   "source": [
    "#I want to visualize missing values from all columns\n",
    "data.isnull().sum().sort_values().plot(kind = 'bar')\n",
    "\n"
   ]
  },
  {
   "cell_type": "markdown",
   "metadata": {},
   "source": [
    "3. Decide what to do about your missing data -- drop, replace, other..."
   ]
  },
  {
   "cell_type": "code",
   "execution_count": 42,
   "metadata": {
    "tags": []
   },
   "outputs": [
    {
     "data": {
      "text/plain": [
       "107"
      ]
     },
     "execution_count": 42,
     "metadata": {},
     "output_type": "execute_result"
    }
   ],
   "source": [
    "# using the graph above, I first find the number of missing rows in the 'Bar' column\n",
    "data['Bar'].isnull().sum()"
   ]
  },
  {
   "cell_type": "code",
   "execution_count": null,
   "metadata": {},
   "outputs": [],
   "source": [
    "# since this is a small portion of the total responses and there are sufficient responses presented, I will replace null values with the mode of the values in the Bar column"
   ]
  },
  {
   "cell_type": "code",
   "execution_count": 48,
   "metadata": {
    "tags": []
   },
   "outputs": [
    {
     "name": "stdout",
     "output_type": "stream",
     "text": [
      "Bar\n",
      "never    5197\n",
      "less1    3482\n",
      "1~3      2473\n",
      "4~8      1076\n",
      "gt8       349\n",
      "Name: count, dtype: int64\n"
     ]
    }
   ],
   "source": [
    "response_counts = data['Bar'].value_counts()\n",
    "print(response_counts)"
   ]
  },
  {
   "cell_type": "code",
   "execution_count": 51,
   "metadata": {
    "tags": []
   },
   "outputs": [
    {
     "name": "stdout",
     "output_type": "stream",
     "text": [
      "Bar\n",
      "never    5304\n",
      "less1    3482\n",
      "1~3      2473\n",
      "4~8      1076\n",
      "gt8       349\n",
      "Name: count, dtype: int64\n"
     ]
    }
   ],
   "source": [
    "# Replace null responses with the response representing the mode \n",
    "\n",
    "data['Bar'].fillna('never', inplace=True)\n",
    "response_counts = data['Bar'].value_counts()\n",
    "print(response_counts)"
   ]
  },
  {
   "cell_type": "code",
   "execution_count": 54,
   "metadata": {
    "tags": []
   },
   "outputs": [
    {
     "data": {
      "text/plain": [
       "130"
      ]
     },
     "execution_count": 54,
     "metadata": {},
     "output_type": "execute_result"
    }
   ],
   "source": [
    "# I will use the same method to replace null values in the other columns\n",
    "data['RestaurantLessThan20'].isnull().sum()"
   ]
  },
  {
   "cell_type": "code",
   "execution_count": 57,
   "metadata": {
    "tags": []
   },
   "outputs": [
    {
     "name": "stdout",
     "output_type": "stream",
     "text": [
      "RestaurantLessThan20\n",
      "1~3      5376\n",
      "4~8      3580\n",
      "less1    2093\n",
      "gt8      1285\n",
      "never     220\n",
      "Name: count, dtype: int64\n"
     ]
    }
   ],
   "source": [
    "response_counts2 = data['RestaurantLessThan20'].value_counts()\n",
    "print(response_counts2)"
   ]
  },
  {
   "cell_type": "code",
   "execution_count": 60,
   "metadata": {
    "tags": []
   },
   "outputs": [
    {
     "name": "stdout",
     "output_type": "stream",
     "text": [
      "RestaurantLessThan20\n",
      "1~3      5506\n",
      "4~8      3580\n",
      "less1    2093\n",
      "gt8      1285\n",
      "never     220\n",
      "Name: count, dtype: int64\n"
     ]
    }
   ],
   "source": [
    "# Replace null responses with the response representing the mode \n",
    "\n",
    "data['RestaurantLessThan20'].fillna('1~3', inplace=True)\n",
    "response_counts2 = data['RestaurantLessThan20'].value_counts()\n",
    "print(response_counts2)"
   ]
  },
  {
   "cell_type": "code",
   "execution_count": 63,
   "metadata": {
    "tags": []
   },
   "outputs": [
    {
     "data": {
      "text/plain": [
       "217"
      ]
     },
     "execution_count": 63,
     "metadata": {},
     "output_type": "execute_result"
    }
   ],
   "source": [
    "data['CoffeeHouse'].isnull().sum()"
   ]
  },
  {
   "cell_type": "code",
   "execution_count": 66,
   "metadata": {
    "tags": []
   },
   "outputs": [
    {
     "name": "stdout",
     "output_type": "stream",
     "text": [
      "CoffeeHouse\n",
      "less1    3385\n",
      "1~3      3225\n",
      "never    2962\n",
      "4~8      1784\n",
      "gt8      1111\n",
      "Name: count, dtype: int64\n"
     ]
    }
   ],
   "source": [
    "# Find the mode of the responses\n",
    "\n",
    "response_counts3 = data['CoffeeHouse'].value_counts()\n",
    "print(response_counts3)"
   ]
  },
  {
   "cell_type": "code",
   "execution_count": 69,
   "metadata": {
    "tags": []
   },
   "outputs": [
    {
     "name": "stdout",
     "output_type": "stream",
     "text": [
      "CoffeeHouse\n",
      "less1    3602\n",
      "1~3      3225\n",
      "never    2962\n",
      "4~8      1784\n",
      "gt8      1111\n",
      "Name: count, dtype: int64\n"
     ]
    }
   ],
   "source": [
    "# Replace null responses with the response representing the mode \n",
    "\n",
    "data['CoffeeHouse'].fillna('less1', inplace=True)\n",
    "response_counts3 = data['CoffeeHouse'].value_counts()\n",
    "print(response_counts3)"
   ]
  },
  {
   "cell_type": "code",
   "execution_count": 72,
   "metadata": {
    "tags": []
   },
   "outputs": [
    {
     "data": {
      "text/plain": [
       "189"
      ]
     },
     "execution_count": 72,
     "metadata": {},
     "output_type": "execute_result"
    }
   ],
   "source": [
    "data['Restaurant20To50'].isnull().sum()"
   ]
  },
  {
   "cell_type": "code",
   "execution_count": 75,
   "metadata": {
    "tags": []
   },
   "outputs": [
    {
     "name": "stdout",
     "output_type": "stream",
     "text": [
      "Restaurant20To50\n",
      "less1    6077\n",
      "1~3      3290\n",
      "never    2136\n",
      "4~8       728\n",
      "gt8       264\n",
      "Name: count, dtype: int64\n"
     ]
    }
   ],
   "source": [
    "# Find the mode of the responses\n",
    "\n",
    "response_counts4 = data['Restaurant20To50'].value_counts()\n",
    "print(response_counts4)"
   ]
  },
  {
   "cell_type": "code",
   "execution_count": 78,
   "metadata": {
    "tags": []
   },
   "outputs": [
    {
     "name": "stdout",
     "output_type": "stream",
     "text": [
      "Restaurant20To50\n",
      "less1    6266\n",
      "1~3      3290\n",
      "never    2136\n",
      "4~8       728\n",
      "gt8       264\n",
      "Name: count, dtype: int64\n"
     ]
    }
   ],
   "source": [
    "# Replace null responses with the response representing the mode \n",
    "\n",
    "data['Restaurant20To50'].fillna('less1', inplace=True)\n",
    "response_counts4 = data['Restaurant20To50'].value_counts()\n",
    "print(response_counts4)"
   ]
  },
  {
   "cell_type": "code",
   "execution_count": 81,
   "metadata": {
    "tags": []
   },
   "outputs": [
    {
     "data": {
      "text/plain": [
       "151"
      ]
     },
     "execution_count": 81,
     "metadata": {},
     "output_type": "execute_result"
    }
   ],
   "source": [
    "data['CarryAway'].isnull().sum()"
   ]
  },
  {
   "cell_type": "code",
   "execution_count": 84,
   "metadata": {
    "tags": []
   },
   "outputs": [
    {
     "name": "stdout",
     "output_type": "stream",
     "text": [
      "CarryAway\n",
      "1~3      4672\n",
      "4~8      4258\n",
      "less1    1856\n",
      "gt8      1594\n",
      "never     153\n",
      "Name: count, dtype: int64\n"
     ]
    }
   ],
   "source": [
    "# Find the mode of the responses\n",
    "\n",
    "response_counts5 = data['CarryAway'].value_counts()\n",
    "print(response_counts5)"
   ]
  },
  {
   "cell_type": "code",
   "execution_count": 87,
   "metadata": {
    "tags": []
   },
   "outputs": [
    {
     "name": "stdout",
     "output_type": "stream",
     "text": [
      "CarryAway\n",
      "1~3      4823\n",
      "4~8      4258\n",
      "less1    1856\n",
      "gt8      1594\n",
      "never     153\n",
      "Name: count, dtype: int64\n"
     ]
    }
   ],
   "source": [
    "# Replace null responses with the response representing the mode \n",
    "\n",
    "data['CarryAway'].fillna('1~3', inplace=True)\n",
    "response_counts5 = data['CarryAway'].value_counts()\n",
    "print(response_counts5)"
   ]
  },
  {
   "cell_type": "code",
   "execution_count": 90,
   "metadata": {
    "tags": []
   },
   "outputs": [
    {
     "data": {
      "text/plain": [
       "<Axes: >"
      ]
     },
     "execution_count": 90,
     "metadata": {},
     "output_type": "execute_result"
    },
    {
     "data": {
      "image/png": "[encoded data removed]",
      "text/plain": [
       "<Figure size 640x480 with 1 Axes>"
      ]
     },
     "metadata": {},
     "output_type": "display_data"
    }
   ],
   "source": [
    "# I take a look at null values now\n",
    "data.isnull().sum().sort_values().plot(kind = 'bar')"
   ]
  },
  {
   "cell_type": "code",
   "execution_count": 93,
   "metadata": {
    "tags": []
   },
   "outputs": [],
   "source": [
    "# I'm almost there... now to fix car column I will delete the column since there is not enoough data to replace with a mean or mode and one's type of car may not a significant determinant of whether a coupon is accepted.\n",
    "#deleting 'car' column\n",
    "\n",
    "data = data.drop('car', axis=1)\n"
   ]
  },
  {
   "cell_type": "code",
   "execution_count": 96,
   "metadata": {
    "tags": []
   },
   "outputs": [
    {
     "name": "stdout",
     "output_type": "stream",
     "text": [
      "<class 'pandas.core.frame.DataFrame'>\n",
      "RangeIndex: 12684 entries, 0 to 12683\n",
      "Data columns (total 25 columns):\n",
      " #   Column                Non-Null Count  Dtype \n",
      "---  ------                --------------  ----- \n",
      " 0   destination           12684 non-null  object\n",
      " 1   passanger             12684 non-null  object\n",
      " 2   weather               12684 non-null  object\n",
      " 3   temperature           12684 non-null  int64 \n",
      " 4   time                  12684 non-null  object\n",
      " 5   coupon                12684 non-null  object\n",
      " 6   expiration            12684 non-null  object\n",
      " 7   gender                12684 non-null  object\n",
      " 8   age                   12684 non-null  object\n",
      " 9   maritalStatus         12684 non-null  object\n",
      " 10  has_children          12684 non-null  int64 \n",
      " 11  education             12684 non-null  object\n",
      " 12  occupation            12684 non-null  object\n",
      " 13  income                12684 non-null  object\n",
      " 14  Bar                   12684 non-null  object\n",
      " 15  CoffeeHouse           12684 non-null  object\n",
      " 16  CarryAway             12684 non-null  object\n",
      " 17  RestaurantLessThan20  12684 non-null  object\n",
      " 18  Restaurant20To50      12684 non-null  object\n",
      " 19  toCoupon_GEQ5min      12684 non-null  int64 \n",
      " 20  toCoupon_GEQ15min     12684 non-null  int64 \n",
      " 21  toCoupon_GEQ25min     12684 non-null  int64 \n",
      " 22  direction_same        12684 non-null  int64 \n",
      " 23  direction_opp         12684 non-null  int64 \n",
      " 24  Y                     12684 non-null  int64 \n",
      "dtypes: int64(8), object(17)\n",
      "memory usage: 2.4+ MB\n"
     ]
    }
   ],
   "source": [
    "# Checking for null values.  There are none\n",
    "\n",
    "data.info()"
   ]
  },
  {
   "cell_type": "code",
   "execution_count": 99,
   "metadata": {
    "tags": []
   },
   "outputs": [
    {
     "data": {
      "text/plain": [
       "<Axes: >"
      ]
     },
     "execution_count": 99,
     "metadata": {},
     "output_type": "execute_result"
    },
    {
     "data": {
      "image/png": "[encoded data removed]",
      "text/plain": [
       "<Figure size 640x480 with 1 Axes>"
      ]
     },
     "metadata": {},
     "output_type": "display_data"
    }
   ],
   "source": [
    "data.isnull().sum().sort_values().plot(kind = 'bar')"
   ]
  },
  {
   "cell_type": "markdown",
   "metadata": {},
   "source": [
    "4. What proportion of the total observations chose to accept the coupon? \n",
    "\n"
   ]
  },
  {
   "cell_type": "code",
   "execution_count": 102,
   "metadata": {
    "tags": []
   },
   "outputs": [
    {
     "name": "stdout",
     "output_type": "stream",
     "text": [
      "<class 'pandas.core.frame.DataFrame'>\n",
      "RangeIndex: 12684 entries, 0 to 12683\n",
      "Data columns (total 25 columns):\n",
      " #   Column                Non-Null Count  Dtype \n",
      "---  ------                --------------  ----- \n",
      " 0   destination           12684 non-null  object\n",
      " 1   passanger             12684 non-null  object\n",
      " 2   weather               12684 non-null  object\n",
      " 3   temperature           12684 non-null  int64 \n",
      " 4   time                  12684 non-null  object\n",
      " 5   coupon                12684 non-null  object\n",
      " 6   expiration            12684 non-null  object\n",
      " 7   gender                12684 non-null  object\n",
      " 8   age                   12684 non-null  object\n",
      " 9   maritalStatus         12684 non-null  object\n",
      " 10  has_children          12684 non-null  int64 \n",
      " 11  education             12684 non-null  object\n",
      " 12  occupation            12684 non-null  object\n",
      " 13  income                12684 non-null  object\n",
      " 14  Bar                   12684 non-null  object\n",
      " 15  CoffeeHouse           12684 non-null  object\n",
      " 16  CarryAway             12684 non-null  object\n",
      " 17  RestaurantLessThan20  12684 non-null  object\n",
      " 18  Restaurant20To50      12684 non-null  object\n",
      " 19  toCoupon_GEQ5min      12684 non-null  int64 \n",
      " 20  toCoupon_GEQ15min     12684 non-null  int64 \n",
      " 21  toCoupon_GEQ25min     12684 non-null  int64 \n",
      " 22  direction_same        12684 non-null  int64 \n",
      " 23  direction_opp         12684 non-null  int64 \n",
      " 24  Y                     12684 non-null  int64 \n",
      "dtypes: int64(8), object(17)\n",
      "memory usage: 2.4+ MB\n"
     ]
    }
   ],
   "source": [
    "# I want to save this cleaned data frame as 'data_clean'\n",
    "data_clean = data.copy()\n",
    "data_clean.info()"
   ]
  },
  {
   "cell_type": "code",
   "execution_count": 105,
   "metadata": {
    "tags": []
   },
   "outputs": [
    {
     "name": "stdout",
     "output_type": "stream",
     "text": [
      "Y\n",
      "1    7210\n",
      "0    5474\n",
      "Name: count, dtype: int64\n"
     ]
    }
   ],
   "source": [
    "# Count the occurrences of each value in 'Y'\n",
    "coupon_counts = data_clean['Y'].value_counts()\n",
    "print(coupon_counts)"
   ]
  },
  {
   "cell_type": "code",
   "execution_count": 108,
   "metadata": {
    "tags": []
   },
   "outputs": [
    {
     "name": "stdout",
     "output_type": "stream",
     "text": [
      "Proportion Accepting Coupon: 0.5684326710816777\n"
     ]
    }
   ],
   "source": [
    "proportion_of_accept = coupon_counts.get(1, 0) / len(data_clean)\n",
    "print(\"Proportion Accepting Coupon:\", proportion_of_accept)"
   ]
  },
  {
   "cell_type": "markdown",
   "metadata": {},
   "source": [
    "5. Use a bar plot to visualize the `coupon` column."
   ]
  },
  {
   "cell_type": "code",
   "execution_count": 111,
   "metadata": {
    "tags": []
   },
   "outputs": [],
   "source": [
    "accept = data_clean.groupby('coupon')['Y'].sum()"
   ]
  },
  {
   "cell_type": "code",
   "execution_count": 114,
   "metadata": {
    "tags": []
   },
   "outputs": [
    {
     "data": {
      "image/png": "[encoded data removed]",
      "text/plain": [
       "<Figure size 640x480 with 1 Axes>"
      ]
     },
     "metadata": {},
     "output_type": "display_data"
    }
   ],
   "source": [
    "ax = accept.plot(kind='bar', color='skyblue', edgecolor='black')\n",
    "ax.set_xticklabels(ax.get_xticklabels(), rotation=45, ha='right')\n",
    "plt.xlabel('Total of Coupons Accepted or Rejected')\n",
    "plt.ylabel('Number of Observations')\n",
    "plt.title('Number of Coupons Accepted and Rejected')\n",
    "plt.show()"
   ]
  },
  {
   "cell_type": "code",
   "execution_count": 117,
   "metadata": {
    "tags": []
   },
   "outputs": [
    {
     "data": {
      "text/plain": [
       "Text(0.5, 1.0, 'Distribution of Coupon Accepted and Rejected by Coupon Type')"
      ]
     },
     "execution_count": 117,
     "metadata": {},
     "output_type": "execute_result"
    },
    {
     "data": {
      "image/png": "[encoded data removed]",
      "text/plain": [
       "<Figure size 640x480 with 1 Axes>"
      ]
     },
     "metadata": {},
     "output_type": "display_data"
    }
   ],
   "source": [
    "grouped_counts = data_clean.groupby(['Y', 'coupon']).size().unstack(fill_value=0)\n",
    "ax = grouped_counts.plot(kind='bar', stacked=True)\n",
    "coupon_labels = {0: 'Rejected', 1: 'Accepted'}\n",
    "ax.set_xticklabels([coupon_labels[int(x)] for x in ax.get_xticks()],rotation=45)\n",
    "\n",
    "# Adding labels and title\n",
    "plt.xlabel('')\n",
    "plt.ylabel('Coupons Offered')\n",
    "plt.title('Distribution of Coupon Accepted and Rejected by Coupon Type')\n"
   ]
  },
  {
   "cell_type": "markdown",
   "metadata": {},
   "source": [
    "6. Use a histogram to visualize the temperature column."
   ]
  },
  {
   "cell_type": "code",
   "execution_count": 121,
   "metadata": {
    "tags": []
   },
   "outputs": [
    {
     "data": {
      "text/plain": [
       "Text(0.5, 1.0, 'Distribution of Coupon Acceptance at Various Temperatures')"
      ]
     },
     "execution_count": 121,
     "metadata": {},
     "output_type": "execute_result"
    },
    {
     "data": {
      "image/png": "[encoded data removed]",
      "text/plain": [
       "<Figure size 640x480 with 1 Axes>"
      ]
     },
     "metadata": {},
     "output_type": "display_data"
    }
   ],
   "source": [
    "sns.histplot(data_clean, x='temperature', hue='Y', bins=10, edgecolor='black', multiple='stack')\n",
    "coupon_labels = {0: 'Rejected', 1: 'Accepted'}\n",
    "plt.xlabel('Temperature')\n",
    "plt.ylabel('Responses')\n",
    "plt.title('Distribution of Coupon Acceptance at Various Temperatures')"
   ]
  },
  {
   "cell_type": "markdown",
   "metadata": {},
   "source": [
    "**Investigating the Bar Coupons**\n",
    "\n",
    "Now, we will lead you through an exploration of just the bar related coupons.  \n",
    "\n",
    "1. Create a new `DataFrame` that contains just the bar coupons.\n"
   ]
  },
  {
   "cell_type": "code",
   "execution_count": 124,
   "metadata": {
    "tags": []
   },
   "outputs": [
    {
     "data": {
      "text/plain": [
       "array(['Restaurant(<20)', 'Coffee House', 'Carry out & Take away', 'Bar',\n",
       "       'Restaurant(20-50)'], dtype=object)"
      ]
     },
     "execution_count": 124,
     "metadata": {},
     "output_type": "execute_result"
    }
   ],
   "source": [
    "data['coupon'].unique()"
   ]
  },
  {
   "cell_type": "code",
   "execution_count": 127,
   "metadata": {
    "tags": []
   },
   "outputs": [
    {
     "name": "stdout",
     "output_type": "stream",
     "text": [
      "           destination  passanger weather  temperature  time coupon  \\\n",
      "9      No Urgent Place     Kid(s)   Sunny           80  10AM    Bar   \n",
      "13                Home      Alone   Sunny           55   6PM    Bar   \n",
      "17                Work      Alone   Sunny           55   7AM    Bar   \n",
      "24     No Urgent Place  Friend(s)   Sunny           80  10AM    Bar   \n",
      "35                Home      Alone   Sunny           55   6PM    Bar   \n",
      "...                ...        ...     ...          ...   ...    ...   \n",
      "12663  No Urgent Place  Friend(s)   Sunny           80  10PM    Bar   \n",
      "12664  No Urgent Place  Friend(s)   Sunny           55  10PM    Bar   \n",
      "12667  No Urgent Place      Alone   Rainy           55  10AM    Bar   \n",
      "12670  No Urgent Place    Partner   Rainy           55   6PM    Bar   \n",
      "12682             Work      Alone   Snowy           30   7AM    Bar   \n",
      "\n",
      "      expiration  gender age      maritalStatus  ...  CoffeeHouse CarryAway  \\\n",
      "9             1d  Female  21  Unmarried partner  ...        never       1~3   \n",
      "13            1d  Female  21  Unmarried partner  ...        never       1~3   \n",
      "17            1d  Female  21  Unmarried partner  ...        never       1~3   \n",
      "24            1d    Male  21             Single  ...        less1       4~8   \n",
      "35            1d    Male  21             Single  ...        less1       4~8   \n",
      "...          ...     ...  ..                ...  ...          ...       ...   \n",
      "12663         1d    Male  26             Single  ...        never       1~3   \n",
      "12664         2h    Male  26             Single  ...        never       1~3   \n",
      "12667         1d    Male  26             Single  ...        never       1~3   \n",
      "12670         2h    Male  26             Single  ...        never       1~3   \n",
      "12682         1d    Male  26             Single  ...        never       1~3   \n",
      "\n",
      "      RestaurantLessThan20 Restaurant20To50 toCoupon_GEQ5min  \\\n",
      "9                      4~8              1~3                1   \n",
      "13                     4~8              1~3                1   \n",
      "17                     4~8              1~3                1   \n",
      "24                     4~8            less1                1   \n",
      "35                     4~8            less1                1   \n",
      "...                    ...              ...              ...   \n",
      "12663                  4~8              1~3                1   \n",
      "12664                  4~8              1~3                1   \n",
      "12667                  4~8              1~3                1   \n",
      "12670                  4~8              1~3                1   \n",
      "12682                  4~8              1~3                1   \n",
      "\n",
      "      toCoupon_GEQ15min toCoupon_GEQ25min direction_same direction_opp  Y  \n",
      "9                     1                 0              0             1  0  \n",
      "13                    0                 0              1             0  1  \n",
      "17                    1                 1              0             1  0  \n",
      "24                    0                 0              0             1  1  \n",
      "35                    0                 0              1             0  1  \n",
      "...                 ...               ...            ...           ... ..  \n",
      "12663                 1                 0              0             1  0  \n",
      "12664                 1                 0              0             1  0  \n",
      "12667                 1                 0              0             1  0  \n",
      "12670                 1                 0              0             1  0  \n",
      "12682                 1                 1              0             1  0  \n",
      "\n",
      "[2017 rows x 25 columns]\n"
     ]
    }
   ],
   "source": [
    "newdata_bar = data_clean[data_clean['coupon'] == 'Bar'].copy()\n",
    "\n",
    "print(newdata_bar)"
   ]
  },
  {
   "cell_type": "code",
   "execution_count": 130,
   "metadata": {
    "tags": []
   },
   "outputs": [
    {
     "name": "stdout",
     "output_type": "stream",
     "text": [
      "<class 'pandas.core.frame.DataFrame'>\n",
      "Index: 2017 entries, 9 to 12682\n",
      "Data columns (total 25 columns):\n",
      " #   Column                Non-Null Count  Dtype \n",
      "---  ------                --------------  ----- \n",
      " 0   destination           2017 non-null   object\n",
      " 1   passanger             2017 non-null   object\n",
      " 2   weather               2017 non-null   object\n",
      " 3   temperature           2017 non-null   int64 \n",
      " 4   time                  2017 non-null   object\n",
      " 5   coupon                2017 non-null   object\n",
      " 6   expiration            2017 non-null   object\n",
      " 7   gender                2017 non-null   object\n",
      " 8   age                   2017 non-null   object\n",
      " 9   maritalStatus         2017 non-null   object\n",
      " 10  has_children          2017 non-null   int64 \n",
      " 11  education             2017 non-null   object\n",
      " 12  occupation            2017 non-null   object\n",
      " 13  income                2017 non-null   object\n",
      " 14  Bar                   2017 non-null   object\n",
      " 15  CoffeeHouse           2017 non-null   object\n",
      " 16  CarryAway             2017 non-null   object\n",
      " 17  RestaurantLessThan20  2017 non-null   object\n",
      " 18  Restaurant20To50      2017 non-null   object\n",
      " 19  toCoupon_GEQ5min      2017 non-null   int64 \n",
      " 20  toCoupon_GEQ15min     2017 non-null   int64 \n",
      " 21  toCoupon_GEQ25min     2017 non-null   int64 \n",
      " 22  direction_same        2017 non-null   int64 \n",
      " 23  direction_opp         2017 non-null   int64 \n",
      " 24  Y                     2017 non-null   int64 \n",
      "dtypes: int64(8), object(17)\n",
      "memory usage: 409.7+ KB\n"
     ]
    }
   ],
   "source": [
    "#verifying \n",
    "newdata_bar.info()"
   ]
  },
  {
   "cell_type": "markdown",
   "metadata": {},
   "source": [
    "2. What proportion of bar coupons were accepted?\n"
   ]
  },
  {
   "cell_type": "code",
   "execution_count": 133,
   "metadata": {
    "tags": []
   },
   "outputs": [
    {
     "name": "stdout",
     "output_type": "stream",
     "text": [
      "Y\n",
      "0    1190\n",
      "1     827\n",
      "Name: count, dtype: int64\n"
     ]
    }
   ],
   "source": [
    "# I count the occurrences of each value in 'Y'\n",
    "coupon_counts2 = newdata_bar['Y'].value_counts()\n",
    "print(coupon_counts2)"
   ]
  },
  {
   "cell_type": "code",
   "execution_count": 136,
   "metadata": {
    "tags": []
   },
   "outputs": [
    {
     "name": "stdout",
     "output_type": "stream",
     "text": [
      "Proportion Accepting Coupon: 0.41001487357461575\n"
     ]
    }
   ],
   "source": [
    "#I find the proportion\n",
    "proportion_of_accept_b = coupon_counts2.get(1, 0) / len(newdata_bar)\n",
    "print(\"Proportion Accepting Coupon:\", proportion_of_accept_b)"
   ]
  },
  {
   "cell_type": "markdown",
   "metadata": {},
   "source": [
    "3. Compare the acceptance rate between those who went to a bar 3 or fewer times a month to those who went more.\n"
   ]
  },
  {
   "cell_type": "code",
   "execution_count": 143,
   "metadata": {
    "tags": []
   },
   "outputs": [
    {
     "data": {
      "text/plain": [
       "Text(0.5, 1.0, 'Coupon Acceptance Rate based on Bar Patronship')"
      ]
     },
     "execution_count": 143,
     "metadata": {},
     "output_type": "execute_result"
    },
    {
     "data": {
      "image/png": "[encoded data removed]",
      "text/plain": [
       "<Figure size 640x480 with 1 Axes>"
      ]
     },
     "metadata": {},
     "output_type": "display_data"
    }
   ],
   "source": [
    "# I want to take a look of the bar distribution before further grouping\n",
    "\n",
    "grouped_counts = newdata_bar.groupby(['Y', 'Bar']).size().unstack(fill_value=0)\n",
    "ax = grouped_counts.plot(kind='bar', stacked=True)\n",
    "coupon_labels = {0: 'Rejected', 1: 'Accepted'}\n",
    "ax.set_xticklabels([coupon_labels[int(x)] for x in ax.get_xticks()],rotation=45)\n",
    "\n",
    "# Adding labels and title\n",
    "plt.xlabel('')\n",
    "plt.ylabel('Coupons Offered')\n",
    "plt.title('Coupon Acceptance Rate based on Bar Patronship')"
   ]
  },
  {
   "cell_type": "code",
   "execution_count": 146,
   "metadata": {
    "tags": []
   },
   "outputs": [
    {
     "name": "stdout",
     "output_type": "stream",
     "text": [
      "bar_modified  3 or fewer times  More than 3\n",
      "Y                                          \n",
      "0                         1144           46\n",
      "1                          674          153\n"
     ]
    }
   ],
   "source": [
    "#I create a new column to group the bar data\n",
    "newdata_bar['bar_modified'] = newdata_bar['Bar'].replace({'never': '3 or fewer times', 'less1': '3 or fewer times', '1~3': '3 or fewer times', '4~8': 'More than 3', 'gt8': 'More than 3'})\n",
    "grouped_counts = newdata_bar.groupby(['Y', 'bar_modified']).size().unstack(fill_value=0)\n",
    "\n",
    "\n",
    "print(grouped_counts)"
   ]
  },
  {
   "cell_type": "code",
   "execution_count": 149,
   "metadata": {
    "tags": []
   },
   "outputs": [
    {
     "name": "stdout",
     "output_type": "stream",
     "text": [
      "<class 'pandas.core.frame.DataFrame'>\n",
      "Index: 2017 entries, 9 to 12682\n",
      "Data columns (total 26 columns):\n",
      " #   Column                Non-Null Count  Dtype \n",
      "---  ------                --------------  ----- \n",
      " 0   destination           2017 non-null   object\n",
      " 1   passanger             2017 non-null   object\n",
      " 2   weather               2017 non-null   object\n",
      " 3   temperature           2017 non-null   int64 \n",
      " 4   time                  2017 non-null   object\n",
      " 5   coupon                2017 non-null   object\n",
      " 6   expiration            2017 non-null   object\n",
      " 7   gender                2017 non-null   object\n",
      " 8   age                   2017 non-null   object\n",
      " 9   maritalStatus         2017 non-null   object\n",
      " 10  has_children          2017 non-null   int64 \n",
      " 11  education             2017 non-null   object\n",
      " 12  occupation            2017 non-null   object\n",
      " 13  income                2017 non-null   object\n",
      " 14  Bar                   2017 non-null   object\n",
      " 15  CoffeeHouse           2017 non-null   object\n",
      " 16  CarryAway             2017 non-null   object\n",
      " 17  RestaurantLessThan20  2017 non-null   object\n",
      " 18  Restaurant20To50      2017 non-null   object\n",
      " 19  toCoupon_GEQ5min      2017 non-null   int64 \n",
      " 20  toCoupon_GEQ15min     2017 non-null   int64 \n",
      " 21  toCoupon_GEQ25min     2017 non-null   int64 \n",
      " 22  direction_same        2017 non-null   int64 \n",
      " 23  direction_opp         2017 non-null   int64 \n",
      " 24  Y                     2017 non-null   int64 \n",
      " 25  bar_modified          2017 non-null   object\n",
      "dtypes: int64(8), object(18)\n",
      "memory usage: 425.5+ KB\n"
     ]
    }
   ],
   "source": [
    "newdata_bar.info()"
   ]
  },
  {
   "cell_type": "code",
   "execution_count": 152,
   "metadata": {
    "tags": []
   },
   "outputs": [
    {
     "data": {
      "image/png": "[encoded data removed]",
      "text/plain": [
       "<Figure size 640x480 with 1 Axes>"
      ]
     },
     "metadata": {},
     "output_type": "display_data"
    }
   ],
   "source": [
    "accept_bar = newdata_bar.groupby('bar_modified')['Y'].sum()\n",
    "ax = accept_bar.plot(kind='bar', color='skyblue', edgecolor='black')\n",
    "ax.set_xticklabels(ax.get_xticklabels(), rotation=45, ha='right')\n",
    "plt.xlabel('Coupons Accepted or Rejected')\n",
    "plt.ylabel('Number of Bar Coupons Offered')\n",
    "plt.title('Number of Bar Coupons Accepted and Rejected')\n",
    "plt.show()"
   ]
  },
  {
   "cell_type": "markdown",
   "metadata": {},
   "source": [
    "4. Compare the acceptance rate between drivers who go to a bar more than once a month and are over the age of 25 to the all others.  Is there a difference?\n"
   ]
  },
  {
   "cell_type": "code",
   "execution_count": 155,
   "metadata": {
    "tags": []
   },
   "outputs": [
    {
     "name": "stdout",
     "output_type": "stream",
     "text": [
      "<class 'pandas.core.frame.DataFrame'>\n",
      "Index: 2017 entries, 9 to 12682\n",
      "Data columns (total 26 columns):\n",
      " #   Column                Non-Null Count  Dtype \n",
      "---  ------                --------------  ----- \n",
      " 0   destination           2017 non-null   object\n",
      " 1   passanger             2017 non-null   object\n",
      " 2   weather               2017 non-null   object\n",
      " 3   temperature           2017 non-null   int64 \n",
      " 4   time                  2017 non-null   object\n",
      " 5   coupon                2017 non-null   object\n",
      " 6   expiration            2017 non-null   object\n",
      " 7   gender                2017 non-null   object\n",
      " 8   age                   2017 non-null   object\n",
      " 9   maritalStatus         2017 non-null   object\n",
      " 10  has_children          2017 non-null   int64 \n",
      " 11  education             2017 non-null   object\n",
      " 12  occupation            2017 non-null   object\n",
      " 13  income                2017 non-null   object\n",
      " 14  Bar                   2017 non-null   object\n",
      " 15  CoffeeHouse           2017 non-null   object\n",
      " 16  CarryAway             2017 non-null   object\n",
      " 17  RestaurantLessThan20  2017 non-null   object\n",
      " 18  Restaurant20To50      2017 non-null   object\n",
      " 19  toCoupon_GEQ5min      2017 non-null   int64 \n",
      " 20  toCoupon_GEQ15min     2017 non-null   int64 \n",
      " 21  toCoupon_GEQ25min     2017 non-null   int64 \n",
      " 22  direction_same        2017 non-null   int64 \n",
      " 23  direction_opp         2017 non-null   int64 \n",
      " 24  Y                     2017 non-null   int64 \n",
      " 25  bar_modified          2017 non-null   object\n",
      "dtypes: int64(8), object(18)\n",
      "memory usage: 425.5+ KB\n"
     ]
    }
   ],
   "source": [
    "newdata_bar.info()"
   ]
  },
  {
   "cell_type": "code",
   "execution_count": 158,
   "metadata": {
    "tags": []
   },
   "outputs": [
    {
     "name": "stdout",
     "output_type": "stream",
     "text": [
      "<class 'pandas.core.frame.DataFrame'>\n",
      "Index: 2017 entries, 9 to 12682\n",
      "Data columns (total 27 columns):\n",
      " #   Column                Non-Null Count  Dtype \n",
      "---  ------                --------------  ----- \n",
      " 0   destination           2017 non-null   object\n",
      " 1   passanger             2017 non-null   object\n",
      " 2   weather               2017 non-null   object\n",
      " 3   temperature           2017 non-null   int64 \n",
      " 4   time                  2017 non-null   object\n",
      " 5   coupon                2017 non-null   object\n",
      " 6   expiration            2017 non-null   object\n",
      " 7   gender                2017 non-null   object\n",
      " 8   age                   2017 non-null   object\n",
      " 9   maritalStatus         2017 non-null   object\n",
      " 10  has_children          2017 non-null   int64 \n",
      " 11  education             2017 non-null   object\n",
      " 12  occupation            2017 non-null   object\n",
      " 13  income                2017 non-null   object\n",
      " 14  Bar                   2017 non-null   object\n",
      " 15  CoffeeHouse           2017 non-null   object\n",
      " 16  CarryAway             2017 non-null   object\n",
      " 17  RestaurantLessThan20  2017 non-null   object\n",
      " 18  Restaurant20To50      2017 non-null   object\n",
      " 19  toCoupon_GEQ5min      2017 non-null   int64 \n",
      " 20  toCoupon_GEQ15min     2017 non-null   int64 \n",
      " 21  toCoupon_GEQ25min     2017 non-null   int64 \n",
      " 22  direction_same        2017 non-null   int64 \n",
      " 23  direction_opp         2017 non-null   int64 \n",
      " 24  Y                     2017 non-null   int64 \n",
      " 25  bar_modified          2017 non-null   object\n",
      " 26  bar_once_plus         2017 non-null   object\n",
      "dtypes: int64(8), object(19)\n",
      "memory usage: 441.2+ KB\n"
     ]
    }
   ],
   "source": [
    "# create a new column that contains drivers who go to a bar more that once a month. *may contain data of drivers who go to a bar exactly once a month. \n",
    "\n",
    "newdata_bar['bar_once_plus'] = newdata_bar['Bar'].replace({'never': 'less than once', 'less1': 'less than once', '1~3': 'more that once', '4~8': 'more that once', 'gt8': 'more that once'})\n",
    "grouped_counts_bar_once = newdata_bar.groupby(['Y', 'bar_once_plus']).size().unstack(fill_value=0)\n",
    "newdata_bar.info()"
   ]
  },
  {
   "cell_type": "code",
   "execution_count": 161,
   "metadata": {
    "tags": []
   },
   "outputs": [
    {
     "name": "stdout",
     "output_type": "stream",
     "text": [
      "bar_once_plus  less than once  more that once\n",
      "Y                                            \n",
      "0                        1004             186\n",
      "1                         417             410\n"
     ]
    }
   ],
   "source": [
    "print(grouped_counts_bar_once)"
   ]
  },
  {
   "cell_type": "code",
   "execution_count": 172,
   "metadata": {
    "tags": []
   },
   "outputs": [
    {
     "name": "stdout",
     "output_type": "stream",
     "text": [
      "age_modified  over 25  under 25\n",
      "Y                              \n",
      "0                 933       257\n",
      "1                 580       247\n"
     ]
    }
   ],
   "source": [
    "newdata_bar['age_modified'] = newdata_bar['age'].replace({'below21': 'under 25','26': 'over 25', '31': 'over 25', '36': 'over 25', '41': 'over 25', '46': 'over 25', '50plus': 'over 25', '21': 'under 25'})\n",
    "grouped_counts2 = newdata_bar.groupby(['Y', 'age_modified']).size().unstack(fill_value=0)\n",
    "\n",
    "\n",
    "print(grouped_counts2)"
   ]
  },
  {
   "cell_type": "code",
   "execution_count": 174,
   "metadata": {
    "tags": []
   },
   "outputs": [
    {
     "name": "stdout",
     "output_type": "stream",
     "text": [
      "age_modified  over 25  under 25\n",
      "Y                              \n",
      "0                1738       456\n",
      "1                 868       376\n"
     ]
    }
   ],
   "source": [
    "grouped_counts2 = newdata_bar.groupby(['Y', 'age_modified']).size().unstack(fill_value=0)\n",
    "additional_data = newdata_bar[newdata_bar['Bar'].isin(['less1', 'never'])]\n",
    "additional_counts = additional_data.groupby(['Y', 'age_modified']).size().unstack(fill_value=0)\n",
    "\n",
    "# I add the additional counts to the existing grouped_counts2 DataFrame\n",
    "grouped_counts2 = grouped_counts2.add(additional_counts, fill_value=0)\n",
    "\n",
    "print(grouped_counts2)"
   ]
  },
  {
   "cell_type": "code",
   "execution_count": 177,
   "metadata": {
    "tags": []
   },
   "outputs": [
    {
     "name": "stdout",
     "output_type": "stream",
     "text": [
      "Y\n",
      "0    1190\n",
      "1     827\n",
      "Name: count, dtype: int64\n"
     ]
    }
   ],
   "source": [
    "# first step to find the proportion. Count the occurrences of each value in 'Y'\n",
    "\n",
    "coupon_counts2 = newdata_bar['Y'].value_counts()\n",
    "print(coupon_counts2)"
   ]
  },
  {
   "cell_type": "code",
   "execution_count": 180,
   "metadata": {
    "tags": []
   },
   "outputs": [
    {
     "name": "stdout",
     "output_type": "stream",
     "text": [
      "Proportion Accepting Coupon: 0.41001487357461575\n"
     ]
    }
   ],
   "source": [
    "proportion_of_accept_3 = coupon_counts2.get(1, 0) / len(newdata_bar)\n",
    "print(\"Proportion Accepting Coupon:\", proportion_of_accept_3)"
   ]
  },
  {
   "cell_type": "markdown",
   "metadata": {},
   "source": [
    "5. Use the same process to compare the acceptance rate between drivers who go to bars more than once a month and had passengers that were not a kid and had occupations other than farming, fishing, or forestry. \n"
   ]
  },
  {
   "cell_type": "code",
   "execution_count": 245,
   "metadata": {
    "tags": []
   },
   "outputs": [],
   "source": [
    "filtered_data = newdata_bar[(newdata_bar['Bar'].isin(['more1'])) & \n",
    "                            (newdata_bar['age'] != 'kid') & \n",
    "                            (~newdata_bar['occupation'].isin(['farming', 'fishing', 'forestry']))]"
   ]
  },
  {
   "cell_type": "code",
   "execution_count": 248,
   "metadata": {
    "tags": []
   },
   "outputs": [],
   "source": [
    "grouped_counts3 = filtered_data.groupby(['Y', 'age_modified']).size().unstack(fill_value=0)"
   ]
  },
  {
   "cell_type": "code",
   "execution_count": 251,
   "metadata": {
    "tags": []
   },
   "outputs": [
    {
     "name": "stdout",
     "output_type": "stream",
     "text": [
      "age_modified  over 25  under 25\n",
      "Y                              \n",
      "0              1738.0     456.0\n",
      "1               868.0     376.0\n"
     ]
    }
   ],
   "source": [
    "grouped_counts3 = grouped_counts3.add(grouped_counts2, fill_value=0)\n",
    "print(grouped_counts3)"
   ]
  },
  {
   "cell_type": "markdown",
   "metadata": {},
   "source": [
    "6. Compare the acceptance rates between those drivers who:\n",
    "\n",
    "- go to bars more than once a month, had passengers that were not a kid, and were not widowed *OR*\n",
    "- go to bars more than once a month and are under the age of 30 *OR*\n",
    "- go to cheap restaurants more than 4 times a month and income is less than 50K. \n",
    "\n"
   ]
  },
  {
   "cell_type": "code",
   "execution_count": 270,
   "metadata": {
    "tags": []
   },
   "outputs": [],
   "source": [
    "filtered_data_2 = newdata_bar[(newdata_bar['Bar'].isin(['more1'])) & \n",
    "                               (newdata_bar['age'] != 'kid') & \n",
    "                               (~newdata_bar['maritalStatus'].isin(['widowed']))]"
   ]
  },
  {
   "cell_type": "code",
   "execution_count": 272,
   "metadata": {
    "tags": []
   },
   "outputs": [],
   "source": [
    "grouped_counts4 = filtered_data_2.groupby(['Y', 'age_modified']).size().unstack(fill_value=0)"
   ]
  },
  {
   "cell_type": "code",
   "execution_count": 280,
   "metadata": {
    "tags": []
   },
   "outputs": [
    {
     "name": "stdout",
     "output_type": "stream",
     "text": [
      "age_modified  over 25  under 25\n",
      "Y                              \n",
      "0              6952.0    1824.0\n",
      "1              3472.0    1504.0\n"
     ]
    }
   ],
   "source": [
    "grouped_counts4 = grouped_counts4.add(grouped_counts2, fill_value=0)\n",
    "print(grouped_counts4)\n"
   ]
  },
  {
   "cell_type": "code",
   "execution_count": null,
   "metadata": {},
   "outputs": [],
   "source": []
  },
  {
   "cell_type": "markdown",
   "metadata": {},
   "source": [
    "7.  Based on these observations, what do you hypothesize about drivers who accepted the bar coupons?"
   ]
  },
  {
   "cell_type": "markdown",
   "metadata": {},
   "source": [
    "**Observations and findings**"
   ]
  },
  {
   "cell_type": "markdown",
   "metadata": {},
   "source": [
    "Overall 41% of all drivers accepted bar coupons.  The acceptance rates goes up significantly when we compare drivers who went to a bar more than 3 times a month.  Simularly, the acceptance rates goes up when we look at drivers over 25 years old compared to drivers under 25 years old. "
   ]
  },
  {
   "cell_type": "markdown",
   "metadata": {},
   "source": [
    "### Independent Investigation\n",
    "\n",
    "Using the bar coupon example as motivation, you are to explore one of the other coupon groups and try to determine the characteristics of passengers who accept the coupons.  "
   ]
  },
  {
   "cell_type": "markdown",
   "metadata": {},
   "source": [
    "**Is there a higher acceptance rate for coupons that expire in less than 2 hours vs 1 day and what types of coupons are accepted more?**"
   ]
  },
  {
   "cell_type": "code",
   "execution_count": 184,
   "metadata": {
    "tags": []
   },
   "outputs": [
    {
     "name": "stdout",
     "output_type": "stream",
     "text": [
      "<class 'pandas.core.frame.DataFrame'>\n",
      "RangeIndex: 12684 entries, 0 to 12683\n",
      "Data columns (total 25 columns):\n",
      " #   Column                Non-Null Count  Dtype \n",
      "---  ------                --------------  ----- \n",
      " 0   destination           12684 non-null  object\n",
      " 1   passanger             12684 non-null  object\n",
      " 2   weather               12684 non-null  object\n",
      " 3   temperature           12684 non-null  int64 \n",
      " 4   time                  12684 non-null  object\n",
      " 5   coupon                12684 non-null  object\n",
      " 6   expiration            12684 non-null  object\n",
      " 7   gender                12684 non-null  object\n",
      " 8   age                   12684 non-null  object\n",
      " 9   maritalStatus         12684 non-null  object\n",
      " 10  has_children          12684 non-null  int64 \n",
      " 11  education             12684 non-null  object\n",
      " 12  occupation            12684 non-null  object\n",
      " 13  income                12684 non-null  object\n",
      " 14  Bar                   12684 non-null  object\n",
      " 15  CoffeeHouse           12684 non-null  object\n",
      " 16  CarryAway             12684 non-null  object\n",
      " 17  RestaurantLessThan20  12684 non-null  object\n",
      " 18  Restaurant20To50      12684 non-null  object\n",
      " 19  toCoupon_GEQ5min      12684 non-null  int64 \n",
      " 20  toCoupon_GEQ15min     12684 non-null  int64 \n",
      " 21  toCoupon_GEQ25min     12684 non-null  int64 \n",
      " 22  direction_same        12684 non-null  int64 \n",
      " 23  direction_opp         12684 non-null  int64 \n",
      " 24  Y                     12684 non-null  int64 \n",
      "dtypes: int64(8), object(17)\n",
      "memory usage: 2.4+ MB\n"
     ]
    }
   ],
   "source": [
    "#is there a higher acceptance rate for <2hour vs 1 day adn what types of coupons are higher\n",
    "data_clean.info()"
   ]
  },
  {
   "cell_type": "code",
   "execution_count": 187,
   "metadata": {
    "tags": []
   },
   "outputs": [
    {
     "name": "stdout",
     "output_type": "stream",
     "text": [
      "                  coupon expiration  count\n",
      "0                    Bar         1d   1556\n",
      "1                    Bar         2h    461\n",
      "2  Carry out & Take away         1d   1456\n",
      "3  Carry out & Take away         2h    937\n",
      "4           Coffee House         1d   1769\n",
      "5           Coffee House         2h   2227\n",
      "6      Restaurant(20-50)         1d    956\n",
      "7      Restaurant(20-50)         2h    536\n",
      "8        Restaurant(<20)         1d   1354\n",
      "9        Restaurant(<20)         2h   1432\n"
     ]
    }
   ],
   "source": [
    "expiration = data_clean.groupby(['coupon', 'expiration']).size().reset_index(name='count')\n",
    "\n",
    "print(expiration)"
   ]
  },
  {
   "cell_type": "code",
   "execution_count": 190,
   "metadata": {
    "tags": []
   },
   "outputs": [
    {
     "name": "stdout",
     "output_type": "stream",
     "text": [
      "  expiration                 coupon  count\n",
      "0         1d                    Bar   1556\n",
      "1         1d  Carry out & Take away   1456\n",
      "2         1d           Coffee House   1769\n",
      "3         1d      Restaurant(20-50)    956\n",
      "4         1d        Restaurant(<20)   1354\n",
      "5         2h                    Bar    461\n",
      "6         2h  Carry out & Take away    937\n",
      "7         2h           Coffee House   2227\n",
      "8         2h      Restaurant(20-50)    536\n",
      "9         2h        Restaurant(<20)   1432\n"
     ]
    }
   ],
   "source": [
    "expiration2 = data_clean.groupby(['expiration', 'coupon']).size().reset_index(name='count')\n",
    "\n",
    "print(expiration2)"
   ]
  },
  {
   "cell_type": "code",
   "execution_count": 193,
   "metadata": {
    "tags": []
   },
   "outputs": [
    {
     "name": "stdout",
     "output_type": "stream",
     "text": [
      "           destination  passanger weather  temperature  time  \\\n",
      "0      No Urgent Place      Alone   Sunny           55   2PM   \n",
      "2      No Urgent Place  Friend(s)   Sunny           80  10AM   \n",
      "5      No Urgent Place  Friend(s)   Sunny           80   6PM   \n",
      "6      No Urgent Place  Friend(s)   Sunny           55   2PM   \n",
      "7      No Urgent Place     Kid(s)   Sunny           80  10AM   \n",
      "...                ...        ...     ...          ...   ...   \n",
      "12671  No Urgent Place    Partner   Snowy           30  10AM   \n",
      "12676             Home      Alone   Sunny           80   6PM   \n",
      "12677             Home    Partner   Sunny           30   6PM   \n",
      "12679             Home    Partner   Rainy           55   6PM   \n",
      "12680             Work      Alone   Rainy           55   7AM   \n",
      "\n",
      "                      coupon expiration  gender age      maritalStatus  ...  \\\n",
      "0            Restaurant(<20)         1d  Female  21  Unmarried partner  ...   \n",
      "2      Carry out & Take away         2h  Female  21  Unmarried partner  ...   \n",
      "5            Restaurant(<20)         2h  Female  21  Unmarried partner  ...   \n",
      "6      Carry out & Take away         1d  Female  21  Unmarried partner  ...   \n",
      "7            Restaurant(<20)         2h  Female  21  Unmarried partner  ...   \n",
      "...                      ...        ...     ...  ..                ...  ...   \n",
      "12671        Restaurant(<20)         1d    Male  26             Single  ...   \n",
      "12676      Restaurant(20-50)         1d    Male  26             Single  ...   \n",
      "12677        Restaurant(<20)         1d    Male  26             Single  ...   \n",
      "12679  Carry out & Take away         1d    Male  26             Single  ...   \n",
      "12680  Carry out & Take away         1d    Male  26             Single  ...   \n",
      "\n",
      "       CoffeeHouse CarryAway RestaurantLessThan20 Restaurant20To50  \\\n",
      "0            never       1~3                  4~8              1~3   \n",
      "2            never       1~3                  4~8              1~3   \n",
      "5            never       1~3                  4~8              1~3   \n",
      "6            never       1~3                  4~8              1~3   \n",
      "7            never       1~3                  4~8              1~3   \n",
      "...            ...       ...                  ...              ...   \n",
      "12671        never       1~3                  4~8              1~3   \n",
      "12676        never       1~3                  4~8              1~3   \n",
      "12677        never       1~3                  4~8              1~3   \n",
      "12679        never       1~3                  4~8              1~3   \n",
      "12680        never       1~3                  4~8              1~3   \n",
      "\n",
      "      toCoupon_GEQ5min toCoupon_GEQ15min toCoupon_GEQ25min direction_same  \\\n",
      "0                    1                 0                 0              0   \n",
      "2                    1                 1                 0              0   \n",
      "5                    1                 1                 0              0   \n",
      "6                    1                 1                 0              0   \n",
      "7                    1                 1                 0              0   \n",
      "...                ...               ...               ...            ...   \n",
      "12671                1                 0                 0              0   \n",
      "12676                1                 0                 0              1   \n",
      "12677                1                 1                 1              0   \n",
      "12679                1                 0                 0              1   \n",
      "12680                1                 0                 0              0   \n",
      "\n",
      "      direction_opp  Y  \n",
      "0                 1  1  \n",
      "2                 1  1  \n",
      "5                 1  1  \n",
      "6                 1  1  \n",
      "7                 1  1  \n",
      "...             ... ..  \n",
      "12671             1  1  \n",
      "12676             0  1  \n",
      "12677             1  1  \n",
      "12679             0  1  \n",
      "12680             1  1  \n",
      "\n",
      "[7210 rows x 25 columns]\n"
     ]
    }
   ],
   "source": [
    "filtered_expiration = data_clean[data_clean['Y'] == 1]\n",
    "print(filtered_expiration)"
   ]
  },
  {
   "cell_type": "code",
   "execution_count": 196,
   "metadata": {
    "tags": []
   },
   "outputs": [
    {
     "name": "stdout",
     "output_type": "stream",
     "text": [
      "                  coupon expiration  count\n",
      "0                    Bar         1d    641\n",
      "1                    Bar         2h    186\n",
      "2  Carry out & Take away         1d   1138\n",
      "3  Carry out & Take away         2h    622\n",
      "4           Coffee House         1d   1033\n",
      "5           Coffee House         2h    962\n",
      "6      Restaurant(20-50)         1d    498\n",
      "7      Restaurant(20-50)         2h    160\n",
      "8        Restaurant(<20)         1d   1126\n",
      "9        Restaurant(<20)         2h    844\n"
     ]
    }
   ],
   "source": [
    "result4 = filtered_expiration.groupby(['coupon', 'expiration']).size().reset_index(name='count')\n",
    "\n",
    "print(result4)"
   ]
  },
  {
   "cell_type": "code",
   "execution_count": 199,
   "metadata": {
    "tags": []
   },
   "outputs": [],
   "source": [
    "pivot_result = result4.pivot(index='coupon', columns='expiration', values='count').fillna(0)"
   ]
  },
  {
   "cell_type": "code",
   "execution_count": 202,
   "metadata": {
    "tags": []
   },
   "outputs": [
    {
     "data": {
      "image/png": "[encoded data removed]",
      "text/plain": [
       "<Figure size 1000x600 with 1 Axes>"
      ]
     },
     "metadata": {},
     "output_type": "display_data"
    }
   ],
   "source": [
    "sns.set(style=\"whitegrid\")\n",
    "pivot_result.plot(kind='bar', stacked=True, figsize=(10, 6))\n",
    "plt.title('Coupons Accepted based on Expiration')\n",
    "plt.xlabel('Coupon')\n",
    "plt.ylabel('Count')\n",
    "plt.show()"
   ]
  },
  {
   "cell_type": "markdown",
   "metadata": {
    "tags": []
   },
   "source": [
    "**Do coupons for restaurants costing more than 20 dollars have a higher acceptance rate with incomes greater than $25,000?**"
   ]
  },
  {
   "cell_type": "code",
   "execution_count": 229,
   "metadata": {
    "tags": []
   },
   "outputs": [
    {
     "name": "stdout",
     "output_type": "stream",
     "text": [
      "           destination passanger weather  temperature  time  \\\n",
      "14                Home     Alone   Sunny           55   6PM   \n",
      "18                Work     Alone   Sunny           80   7AM   \n",
      "36                Home     Alone   Sunny           55   6PM   \n",
      "40                Work     Alone   Sunny           80   7AM   \n",
      "58                Home     Alone   Sunny           55   6PM   \n",
      "...                ...       ...     ...          ...   ...   \n",
      "12657             Home     Alone   Sunny           80   6PM   \n",
      "12661             Work     Alone   Sunny           80   7AM   \n",
      "12669  No Urgent Place   Partner   Sunny           30  10AM   \n",
      "12676             Home     Alone   Sunny           80   6PM   \n",
      "12683             Work     Alone   Sunny           80   7AM   \n",
      "\n",
      "                  coupon expiration  gender age      maritalStatus  ...  \\\n",
      "14     Restaurant(20-50)         1d  Female  21  Unmarried partner  ...   \n",
      "18     Restaurant(20-50)         1d  Female  21  Unmarried partner  ...   \n",
      "36     Restaurant(20-50)         1d    Male  21             Single  ...   \n",
      "40     Restaurant(20-50)         1d    Male  21             Single  ...   \n",
      "58     Restaurant(20-50)         1d    Male  46             Single  ...   \n",
      "...                  ...        ...     ...  ..                ...  ...   \n",
      "12657  Restaurant(20-50)         1d    Male  31    Married partner  ...   \n",
      "12661  Restaurant(20-50)         2h    Male  31    Married partner  ...   \n",
      "12669  Restaurant(20-50)         1d    Male  26             Single  ...   \n",
      "12676  Restaurant(20-50)         1d    Male  26             Single  ...   \n",
      "12683  Restaurant(20-50)         2h    Male  26             Single  ...   \n",
      "\n",
      "       CoffeeHouse CarryAway RestaurantLessThan20 Restaurant20To50  \\\n",
      "14           never       1~3                  4~8              1~3   \n",
      "18           never       1~3                  4~8              1~3   \n",
      "36           less1       4~8                  4~8            less1   \n",
      "40           less1       4~8                  4~8            less1   \n",
      "58             4~8       1~3                  1~3            never   \n",
      "...            ...       ...                  ...              ...   \n",
      "12657        never       4~8                  gt8            less1   \n",
      "12661        never       4~8                  gt8            less1   \n",
      "12669        never       1~3                  4~8              1~3   \n",
      "12676        never       1~3                  4~8              1~3   \n",
      "12683        never       1~3                  4~8              1~3   \n",
      "\n",
      "      toCoupon_GEQ5min toCoupon_GEQ15min toCoupon_GEQ25min direction_same  \\\n",
      "14                   1                 1                 0              0   \n",
      "18                   1                 1                 0              0   \n",
      "36                   1                 1                 0              0   \n",
      "40                   1                 1                 0              0   \n",
      "58                   1                 1                 0              0   \n",
      "...                ...               ...               ...            ...   \n",
      "12657                1                 0                 0              1   \n",
      "12661                1                 0                 0              1   \n",
      "12669                1                 0                 0              0   \n",
      "12676                1                 0                 0              1   \n",
      "12683                1                 0                 0              1   \n",
      "\n",
      "      direction_opp  Y  \n",
      "14                1  1  \n",
      "18                1  1  \n",
      "36                1  0  \n",
      "40                1  0  \n",
      "58                1  0  \n",
      "...             ... ..  \n",
      "12657             0  0  \n",
      "12661             0  0  \n",
      "12669             1  1  \n",
      "12676             0  1  \n",
      "12683             0  0  \n",
      "\n",
      "[1492 rows x 25 columns]\n"
     ]
    }
   ],
   "source": [
    "newdata_income = data_clean[data_clean['coupon'] == 'Restaurant(20-50)'].copy()\n",
    "\n",
    "print(newdata_income)"
   ]
  },
  {
   "cell_type": "code",
   "execution_count": 232,
   "metadata": {
    "tags": []
   },
   "outputs": [
    {
     "name": "stdout",
     "output_type": "stream",
     "text": [
      "<class 'pandas.core.frame.DataFrame'>\n",
      "Index: 1492 entries, 14 to 12683\n",
      "Data columns (total 25 columns):\n",
      " #   Column                Non-Null Count  Dtype \n",
      "---  ------                --------------  ----- \n",
      " 0   destination           1492 non-null   object\n",
      " 1   passanger             1492 non-null   object\n",
      " 2   weather               1492 non-null   object\n",
      " 3   temperature           1492 non-null   int64 \n",
      " 4   time                  1492 non-null   object\n",
      " 5   coupon                1492 non-null   object\n",
      " 6   expiration            1492 non-null   object\n",
      " 7   gender                1492 non-null   object\n",
      " 8   age                   1492 non-null   object\n",
      " 9   maritalStatus         1492 non-null   object\n",
      " 10  has_children          1492 non-null   int64 \n",
      " 11  education             1492 non-null   object\n",
      " 12  occupation            1492 non-null   object\n",
      " 13  income                1492 non-null   object\n",
      " 14  Bar                   1492 non-null   object\n",
      " 15  CoffeeHouse           1492 non-null   object\n",
      " 16  CarryAway             1492 non-null   object\n",
      " 17  RestaurantLessThan20  1492 non-null   object\n",
      " 18  Restaurant20To50      1492 non-null   object\n",
      " 19  toCoupon_GEQ5min      1492 non-null   int64 \n",
      " 20  toCoupon_GEQ15min     1492 non-null   int64 \n",
      " 21  toCoupon_GEQ25min     1492 non-null   int64 \n",
      " 22  direction_same        1492 non-null   int64 \n",
      " 23  direction_opp         1492 non-null   int64 \n",
      " 24  Y                     1492 non-null   int64 \n",
      "dtypes: int64(8), object(17)\n",
      "memory usage: 303.1+ KB\n"
     ]
    }
   ],
   "source": [
    "newdata_income.info()"
   ]
  },
  {
   "cell_type": "code",
   "execution_count": 235,
   "metadata": {
    "tags": []
   },
   "outputs": [
    {
     "name": "stdout",
     "output_type": "stream",
     "text": [
      "income_modified  > $75000  less than $75000\n",
      "Y                                          \n",
      "0                     235               599\n",
      "1                     192               466\n"
     ]
    }
   ],
   "source": [
    "newdata_income['income_modified'] = newdata_income['income'].replace({'$25000 - $37499': 'less than $75000', '$12500 - $24999': 'less than $75000', 'Less than $12500': 'less than $75000', '$37500 - $49999': 'less than $75000', '$50000 - $62499': 'less than $75000', '$62500 - $74999': 'less than $75000', '$87500 - $99999': '> $75000', '$100000 or More': '> $75000', '$75000 - $87499': '> $75000'})\n",
    "grouped_counts_income1 = newdata_income.groupby(['Y', 'income_modified']).size().unstack(fill_value=0)\n",
    "\n",
    "print(grouped_counts_income1)"
   ]
  },
  {
   "cell_type": "code",
   "execution_count": 238,
   "metadata": {
    "tags": []
   },
   "outputs": [
    {
     "data": {
      "image/png": "[encoded data removed]",
      "text/plain": [
       "<Figure size 1000x600 with 1 Axes>"
      ]
     },
     "metadata": {},
     "output_type": "display_data"
    }
   ],
   "source": [
    "sns.set(style=\"whitegrid\")\n",
    "grouped_counts_income1.plot(kind='bar', stacked=True, figsize=(10, 6))\n",
    "plt.title('Income Modification Counts')\n",
    "plt.xlabel('Y')\n",
    "plt.ylabel('Count')\n",
    "plt.show()"
   ]
  },
  {
   "cell_type": "code",
   "execution_count": 241,
   "metadata": {
    "tags": []
   },
   "outputs": [
    {
     "name": "stdout",
     "output_type": "stream",
     "text": [
      "income_modified\n",
      "> $75000            44.964871\n",
      "less than $75000    43.755869\n",
      "Name: Y, dtype: float64\n"
     ]
    }
   ],
   "source": [
    "percentage_responses = newdata_income.groupby('income_modified')['Y'].mean() * 100\n",
    "\n",
    "print(percentage_responses)"
   ]
  },
  {
   "cell_type": "code",
   "execution_count": null,
   "metadata": {},
   "outputs": [],
   "source": []
  }
 ],
 "metadata": {
  "kernelspec": {
   "display_name": "Python 3 (ipykernel)",
   "language": "python",
   "name": "python3"
  },
  "language_info": {
   "codemirror_mode": {
    "name": "ipython",
    "version": 3
   },
   "file_extension": ".py",
   "mimetype": "text/x-python",
   "name": "python",
   "nbconvert_exporter": "python",
   "pygments_lexer": "ipython3",
   "version": "3.11.5"
  },
  "widgets": {
   "application/vnd.jupyter.widget-state+json": {
    "state": {},
    "version_major": 2,
    "version_minor": 0
   }
  }
 },
 "nbformat": 4,
 "nbformat_minor": 4
}
